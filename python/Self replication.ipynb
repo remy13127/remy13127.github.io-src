{
 "cells": [
  {
   "cell_type": "markdown",
   "metadata": {},
   "source": [
    "# Concepts\n",
    "\n",
    "$$ \\frac{e^{-\\beta E_i}}{Z(\\beta)} \\pi(i \\rightarrow j \\ ; \\tau) = \\frac{e^{-\\beta E_j}}{Z(\\beta)}\\pi(j^* \\rightarrow i^* \\ ; \\tau) $$\n",
    "\n",
    "where $\\pi(i \\rightarrow j \\ ; \\tau)$ is the conditional probability that the system is found to be in the microstate $j$ at time $t = \\tau > 0$ given that it started off in microstate $i$ at an earlier time $t=0$. \n",
    "\n",
    "$$ \\frac{e^{-\\beta E_i}}{e^{-\\beta Ej}} = \\frac{\\pi(i \\rightarrow j)}{\\pi(j^* \\rightarrow i^*)} = e^{-\\beta(E_i - E_j)} = e^{-\\beta \\Delta Q_{i \\rightarrow j}} = e^{-\\Delta S^{i \\rightarrow j}}$$\n",
    "\n",
    "**Idea**:\n",
    "\n",
    "* Derive a generalization of the second law of thermodynamic for macroscopic irreversible processes\n",
    "\n",
    "$$ \\beta \\Delta Q[x(t)] = \\ln \\left[ \\frac{\\pi[x(t)]}{\\pi[x(\\tau - t)]} \\right]$$\n",
    "\n",
    "Master equation \n",
    "\n",
    "$$ \\dot{p}_n (t) = g n [p_{n-1}(t) - p_n(t)] - \\delta n [p_n(t) - p_{n+1}(t)]$$"
   ]
  },
  {
   "cell_type": "code",
   "execution_count": null,
   "metadata": {},
   "outputs": [],
   "source": []
  }
 ],
 "metadata": {
  "kernelspec": {
   "display_name": "Python 3",
   "language": "python",
   "name": "python3"
  },
  "language_info": {
   "codemirror_mode": {
    "name": "ipython",
    "version": 3
   },
   "file_extension": ".py",
   "mimetype": "text/x-python",
   "name": "python",
   "nbconvert_exporter": "python",
   "pygments_lexer": "ipython3",
   "version": "3.6.8"
  }
 },
 "nbformat": 4,
 "nbformat_minor": 2
}
