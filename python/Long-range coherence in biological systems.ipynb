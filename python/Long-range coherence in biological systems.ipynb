{
 "cells": [
  {
   "cell_type": "code",
   "execution_count": 1,
   "metadata": {},
   "outputs": [],
   "source": [
    "import matplotlib.pyplot as plt\n",
    "import numpy as np"
   ]
  },
  {
   "cell_type": "code",
   "execution_count": 18,
   "metadata": {},
   "outputs": [
    {
     "data": {
      "text/plain": [
       "Text(0, 0.5, '$n_{lT}$')"
      ]
     },
     "execution_count": 18,
     "metadata": {},
     "output_type": "execute_result"
    },
    {
     "data": {
      "image/png": "[encoded data removed]",
      "text/plain": [
       "<Figure size 432x288 with 1 Axes>"
      ]
     },
     "metadata": {
      "needs_background": "light"
     },
     "output_type": "display_data"
    }
   ],
   "source": [
    "hbar=1\n",
    "kT=1\n",
    "\n",
    "def n(omegal):\n",
    "    return(1/(np.exp(hbar*omegal/kT)-1))\n",
    "\n",
    "omegal=np.linspace(0.1,1,100)\n",
    "plt.plot(omegal,n(omegal))\n",
    "plt.xlabel(r\"$\\omega_l$\")\n",
    "plt.ylabel(r'$n_{lT}$')"
   ]
  },
  {
   "cell_type": "markdown",
   "metadata": {},
   "source": [
    "# Fröhlich\n",
    "\n",
    "Quest for collective modes characteristic of biosystems. Fröhlich turned to their *dielectric* and *elastic* properties. There exist electric dipolar units such as the cell membrane. An enormous electric field is maintained across the cell membrane ($\\sim 10^5$ V/cm. Macromolecules dissolved in the membrane would naturally become strongly polarized (and acquire an induced dipole moment). As a consequence of the high density of dissolved protein (and on a larger scale), small sections of the membrane could vibrate separately from the rest (e.g. between two proteins). The positive (outer) layer may vibrate *against* the negatively charged (inner) layer, perpandicularly to the membrane, thus acting as local oscillating electric dipoles. \n",
    "\n",
    "The long-range Coulomb interaction between all of these dipoles, all oscillating at the same frequency $\\omega_0$ but with in general different amplitudes (and phases) imply the existence of a narrow band of *collective* longitudinal modes of electric oscillation extending throughout the region occupied by the local dipoles. \n",
    "\n",
    "These polarization waves have a range of macroscopic wavelengths depending only *weakly* on frequency, which, in consequence of the long-range interaction between positively and negatively charges regions characterizing this excitation, never vanishes, *whatever* the wavelength.\n",
    "\n",
    "$\\omega_0$ can be estimated from the frequency of the longest wavelength sound wave which can be propagated perpandicular to the membrane. If $d \\sim 10^{-6}$ cm is the membrane thickness, then $\\lambda_{max}=2d$. So $\\nu=c/2d$, where $c$ is the speed of sound in water ($s\\sim 10^5$ cm/s, which yields $\\omega \\sim 10^{11}$ Hz. \n",
    "\n",
    "There are many other sources of dipolar oscillations.\n",
    "\n",
    "The remained of the system in which the dipolar units are embedded is treated as an elastic heat bath held at constant temperature. Introduce a QM model permitting linear (single quanta) and non-linear (two quanta) interactions of short range between the heat bath and the collective polarization modes. Discovered that the energy randomly supplied above a certain rate $s_0$ is not completely thermalized but partly channelled into the *lowest* frequency collective mode $\\omega_l$, where it is stored in a purely mechanical fashion. The single mode becomes strongly (coherently) excited, far in excess of that appropriate to thermal equilibrium (involving single quanta exchange only). For $s>s_0$ the number of quanta with energy $\\hbar \\omega_l$ increases far above the thermal equilibrium value (like a B.E.C.). The macroscopically occupied $\\omega_l$ mode represents a long-wavelength coherent oscillation of electric polarization extending throughout the whole system of coupled dipolar oscillators. If $k=0$, that's a giant dipole oscillation of the whole system (the mode is excited by electromagnetic radiation $\\hbar \\omega_l$, provided the size of the oscillating biosystem is smaller than the wavelength $c/\\nu_l$. \n",
    "\n",
    "Overproviding the system with energy does not result in heating but instead in the establishment of a *highly ordered subsystem*, in which the energy is stored in a mechanical way (foreseen by Schrödinger). "
   ]
  },
  {
   "cell_type": "code",
   "execution_count": null,
   "metadata": {},
   "outputs": [],
   "source": []
  }
 ],
 "metadata": {
  "kernelspec": {
   "display_name": "Python 3",
   "language": "python",
   "name": "python3"
  },
  "language_info": {
   "codemirror_mode": {
    "name": "ipython",
    "version": 3
   },
   "file_extension": ".py",
   "mimetype": "text/x-python",
   "name": "python",
   "nbconvert_exporter": "python",
   "pygments_lexer": "ipython3",
   "version": "3.6.8"
  }
 },
 "nbformat": 4,
 "nbformat_minor": 2
}
